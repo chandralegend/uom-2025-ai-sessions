{
 "cells": [
  {
   "cell_type": "markdown",
   "id": "48a647a5",
   "metadata": {},
   "source": [
    "## Intermediate Python Programming\n",
    "\n",
    "- Functions, Types and Hints, Docstrings\n",
    "- Errors and Exceptions\n",
    "- Exception Handling\n",
    "- Context Managers\n",
    "- Comprehensions\n",
    "- Generators and Iterators\n",
    "- Decorators\n",
    "- Modules and Packages\n",
    "- Stdlibs\n",
    "- Performance Optimization (Numpy, Pandas)"
   ]
  },
  {
   "cell_type": "markdown",
   "id": "1d125890",
   "metadata": {},
   "source": [
    "### Functions, Types and Hints, Docstrings"
   ]
  },
  {
   "cell_type": "code",
   "execution_count": 3,
   "id": "72b0afb7",
   "metadata": {},
   "outputs": [
    {
     "name": "stdout",
     "output_type": "stream",
     "text": [
      "0\n"
     ]
    }
   ],
   "source": [
    "def hello_world(name: str) -> int:\n",
    "    \"\"\"A simple function that greets the person whose name is passed as an argument.\"\"\"\n",
    "    text = \"Hello, \" + name + \"!\"\n",
    "    return 0\n",
    "\n",
    "print(hello_world(\"Alice\"))"
   ]
  },
  {
   "cell_type": "code",
   "execution_count": 4,
   "id": "ba8e32d0",
   "metadata": {},
   "outputs": [
    {
     "data": {
      "text/plain": [
       "0"
      ]
     },
     "execution_count": 4,
     "metadata": {},
     "output_type": "execute_result"
    }
   ],
   "source": [
    "hello_world(\"Bob\")"
   ]
  },
  {
   "cell_type": "code",
   "execution_count": 15,
   "id": "f94f3aba",
   "metadata": {},
   "outputs": [],
   "source": [
    "def hello_world(name: str) -> str:\n",
    "    \"\"\"Returns a greeting message for the given name.\"\"\"\n",
    "    try:\n",
    "        return \"Hello, \" + name + \"!\"\n",
    "    except Exception:\n",
    "        return \"Invalid input: name must be a string.\"\n",
    "    else:\n",
    "        return \"Function executed successfully.\"\n",
    "    finally:\n",
    "        print(\"Function executed.\")"
   ]
  },
  {
   "cell_type": "code",
   "execution_count": 16,
   "id": "46f60469",
   "metadata": {},
   "outputs": [
    {
     "name": "stdout",
     "output_type": "stream",
     "text": [
      "Function executed.\n"
     ]
    },
    {
     "data": {
      "text/plain": [
       "'Invalid input: name must be a string.'"
      ]
     },
     "execution_count": 16,
     "metadata": {},
     "output_type": "execute_result"
    }
   ],
   "source": [
    "hello_world(1)"
   ]
  },
  {
   "cell_type": "code",
   "execution_count": 14,
   "id": "09b78ded",
   "metadata": {},
   "outputs": [
    {
     "data": {
      "text/plain": [
       "Exception"
      ]
     },
     "execution_count": 14,
     "metadata": {},
     "output_type": "execute_result"
    }
   ],
   "source": [
    "Exception"
   ]
  },
  {
   "cell_type": "code",
   "execution_count": null,
   "id": "0f6ec5b3",
   "metadata": {},
   "outputs": [],
   "source": []
  }
 ],
 "metadata": {
  "kernelspec": {
   "display_name": "Python 3",
   "language": "python",
   "name": "python3"
  },
  "language_info": {
   "codemirror_mode": {
    "name": "ipython",
    "version": 3
   },
   "file_extension": ".py",
   "mimetype": "text/x-python",
   "name": "python",
   "nbconvert_exporter": "python",
   "pygments_lexer": "ipython3",
   "version": "3.12.8"
  }
 },
 "nbformat": 4,
 "nbformat_minor": 5
}
