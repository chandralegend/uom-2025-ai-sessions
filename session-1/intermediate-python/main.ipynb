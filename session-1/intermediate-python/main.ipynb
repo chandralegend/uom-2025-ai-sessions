{
 "cells": [
  {
   "cell_type": "markdown",
   "id": "48a647a5",
   "metadata": {},
   "source": [
    "## Intermediate Python Programming\n",
    "\n",
    "- Functions, Types and Hints, Docstrings\n",
    "- Errors and Exceptions\n",
    "- Exception Handling\n",
    "- Context Managers\n",
    "- Comprehensions\n",
    "- Generators and Iterators\n",
    "- Decorators\n",
    "- Modules and Packages\n",
    "- Stdlibs\n",
    "- Performance Optimization (Numpy, Pandas)"
   ]
  },
  {
   "cell_type": "markdown",
   "id": "1d125890",
   "metadata": {},
   "source": [
    "### Functions, Types and Hints, Docstrings"
   ]
  },
  {
   "cell_type": "code",
   "execution_count": 3,
   "id": "72b0afb7",
   "metadata": {},
   "outputs": [
    {
     "name": "stdout",
     "output_type": "stream",
     "text": [
      "0\n"
     ]
    }
   ],
   "source": [
    "def hello_world(name: str) -> int:\n",
    "    \"\"\"A simple function that greets the person whose name is passed as an argument.\"\"\"\n",
    "    text = \"Hello, \" + name + \"!\"\n",
    "    return 0\n",
    "\n",
    "print(hello_world(\"Alice\"))"
   ]
  },
  {
   "cell_type": "code",
   "execution_count": 4,
   "id": "ba8e32d0",
   "metadata": {},
   "outputs": [
    {
     "data": {
      "text/plain": [
       "0"
      ]
     },
     "execution_count": 4,
     "metadata": {},
     "output_type": "execute_result"
    }
   ],
   "source": [
    "hello_world(\"Bob\")"
   ]
  },
  {
   "cell_type": "code",
   "execution_count": 15,
   "id": "f94f3aba",
   "metadata": {},
   "outputs": [],
   "source": [
    "def hello_world(name: str) -> str:\n",
    "    \"\"\"Returns a greeting message for the given name.\"\"\"\n",
    "    try:\n",
    "        return \"Hello, \" + name + \"!\"\n",
    "    except Exception:\n",
    "        return \"Invalid input: name must be a string.\"\n",
    "    else:\n",
    "        return \"Function executed successfully.\"\n",
    "    finally:\n",
    "        print(\"Function executed.\")"
   ]
  },
  {
   "cell_type": "code",
   "execution_count": 16,
   "id": "46f60469",
   "metadata": {},
   "outputs": [
    {
     "name": "stdout",
     "output_type": "stream",
     "text": [
      "Function executed.\n"
     ]
    },
    {
     "data": {
      "text/plain": [
       "'Invalid input: name must be a string.'"
      ]
     },
     "execution_count": 16,
     "metadata": {},
     "output_type": "execute_result"
    }
   ],
   "source": [
    "hello_world(1)"
   ]
  },
  {
   "cell_type": "code",
   "execution_count": 14,
   "id": "09b78ded",
   "metadata": {},
   "outputs": [
    {
     "data": {
      "text/plain": [
       "Exception"
      ]
     },
     "execution_count": 14,
     "metadata": {},
     "output_type": "execute_result"
    }
   ],
   "source": [
    "Exception"
   ]
  },
  {
   "cell_type": "markdown",
   "id": "d48adb6f",
   "metadata": {},
   "source": [
    "## Context Managers"
   ]
  },
  {
   "cell_type": "code",
   "execution_count": null,
   "id": "0f6ec5b3",
   "metadata": {},
   "outputs": [],
   "source": [
    "with open(\"example.txt\", \"w\") as file:\n",
    "    file.write(\"This is an example of using a context manager in Python.\\n\")"
   ]
  },
  {
   "cell_type": "markdown",
   "id": "16bc1547",
   "metadata": {},
   "source": [
    "----- opens a file ---\n",
    "--- Does what the code inside the block says ---\n",
    "----- closes the file -----"
   ]
  },
  {
   "cell_type": "code",
   "execution_count": 19,
   "id": "cb6ff65e",
   "metadata": {},
   "outputs": [
    {
     "name": "stdout",
     "output_type": "stream",
     "text": [
      "Total: 499999500000\n",
      "Calculate sum: 0.0149 seconds\n"
     ]
    }
   ],
   "source": [
    "from contextlib import contextmanager\n",
    "import time\n",
    "\n",
    "@contextmanager\n",
    "def timer(label: str):\n",
    "    start = time.time()\n",
    "    try:\n",
    "        yield\n",
    "    finally:\n",
    "        end = time.time()\n",
    "        print(f\"{label}: {end - start:.4f} seconds\")\n",
    "\n",
    "with timer(\"Calculate sum\"):\n",
    "    total = sum(range(1, 1000000))\n",
    "    print(f\"Total: {total}\")"
   ]
  },
  {
   "cell_type": "markdown",
   "id": "9631e3ec",
   "metadata": {},
   "source": [
    "## iterables, Generators and Comprehensions"
   ]
  },
  {
   "cell_type": "code",
   "execution_count": 20,
   "id": "fd6b4a68",
   "metadata": {},
   "outputs": [
    {
     "name": "stdout",
     "output_type": "stream",
     "text": [
      "0\n",
      "1\n",
      "2\n",
      "3\n",
      "4\n"
     ]
    }
   ],
   "source": [
    "for i in range(5):\n",
    "    print(i)"
   ]
  },
  {
   "cell_type": "code",
   "execution_count": 23,
   "id": "c454c0e7",
   "metadata": {},
   "outputs": [
    {
     "data": {
      "text/plain": [
       "<range_iterator at 0x1053e8630>"
      ]
     },
     "execution_count": 23,
     "metadata": {},
     "output_type": "execute_result"
    }
   ],
   "source": [
    "range(5).__iter__()"
   ]
  },
  {
   "cell_type": "code",
   "execution_count": null,
   "id": "be963b5b",
   "metadata": {},
   "outputs": [
    {
     "name": "stdout",
     "output_type": "stream",
     "text": [
      "Lorep Ipsum Lorep IpsumLorep IpsumLorep IpsumLorep IpsumLorep IpsumLorep IpsumLorep IpsumLorep IpsumLorep Ipsum\n",
      "Lorep Ipsum Lorep IpsumLorep IpsumLorep IpsumLorep IpsumLorep IpsumLorep IpsumLorep IpsumLorep IpsumLorep Ipsum\n",
      "Lorep Ipsum Lorep IpsumLorep IpsumLorep IpsumLorep IpsumLorep IpsumLorep IpsumLorep IpsumLorep IpsumLorep Ipsum\n",
      "Lorep Ipsum Lorep IpsumLorep IpsumLorep IpsumLorep IpsumLorep IpsumLorep IpsumLorep IpsumLorep IpsumLorep Ipsum\n",
      "Lorep Ipsum Lorep IpsumLorep IpsumLorep IpsumLorep IpsumLorep IpsumLorep IpsumLorep IpsumLorep IpsumLorep Ipsum\n",
      "Lorep Ipsum Lorep IpsumLorep IpsumLorep IpsumLorep IpsumLorep IpsumLorep IpsumLorep IpsumLorep IpsumLorep Ipsum\n",
      "Lorep Ipsum Lorep IpsumLorep IpsumLorep IpsumLorep IpsumLorep IpsumLorep IpsumLorep IpsumLorep IpsumLorep Ipsum\n",
      "Lorep Ipsum Lorep IpsumLorep IpsumLorep IpsumLorep IpsumLorep IpsumLorep IpsumLorep IpsumLorep IpsumLorep Ipsum\n",
      "v\n",
      "Lorep Ipsum Lorep IpsumLorep IpsumLorep IpsumLorep IpsumLorep IpsumLorep IpsumLorep IpsumLorep IpsumLorep Ipsum\n",
      "Lorep Ipsum Lorep IpsumLorep IpsumLorep IpsumLorep IpsumLorep IpsumLorep IpsumLorep IpsumLorep IpsumLorep Ipsum\n",
      "Lorep Ipsum Lorep IpsumLorep IpsumLorep IpsumLorep IpsumLorep IpsumLorep IpsumLorep IpsumLorep IpsumLorep Ipsum\n",
      "Lorep Ipsum Lorep IpsumLorep IpsumLorep IpsumLorep IpsumLorep IpsumLorep IpsumLorep IpsumLorep IpsumLorep Ipsum\n",
      "v\n",
      "v\n",
      "Lorep Ipsum Lorep IpsumLorep IpsumLorep IpsumLorep IpsumLorep IpsumLorep IpsumLorep IpsumLorep IpsumLorep Ipsum\n",
      "Lorep Ipsum Lorep IpsumLorep IpsumLorep IpsumLorep IpsumLorep IpsumLorep IpsumLorep IpsumLorep IpsumLorep Ipsum\n",
      "v\n",
      "v\n",
      "v\n",
      "v\n",
      "\n",
      "v\n",
      "\n",
      "Lorep Ipsum Lorep IpsumLorep IpsumLorep IpsumLorep IpsumLorep IpsumLorep IpsumLorep IpsumLorep IpsumLorep Ipsum\n",
      "Lorep Ipsum Lorep IpsumLorep IpsumLorep IpsumLorep IpsumLorep IpsumLorep IpsumLorep IpsumLorep IpsumLorep IpsumvLorep Ipsum Lorep IpsumLorep IpsumLorep IpsumLorep IpsumLorep IpsumLorep IpsumLorep IpsumLorep IpsumLorep Ipsum\n",
      "Lorep Ipsum Lorep IpsumLorep IpsumLorep IpsumLorep IpsumLorep IpsumLorep IpsumLorep IpsumLorep IpsumLorep Ipsum\n"
     ]
    }
   ],
   "source": []
  },
  {
   "cell_type": "code",
   "execution_count": 28,
   "id": "25e1be01",
   "metadata": {},
   "outputs": [
    {
     "name": "stdout",
     "output_type": "stream",
     "text": [
      "['Lorep Ipsum Lorep IpsumLorep IpsumLorep IpsumLorep IpsumLorep IpsumLorep IpsumLorep IpsumLorep IpsumLorep Ipsum\\n', 'Lorep Ipsum Lorep IpsumLorep IpsumLorep IpsumLorep IpsumLorep IpsumLorep IpsumLorep IpsumLorep IpsumLorep Ipsum\\n', 'Lorep Ipsum Lorep IpsumLorep IpsumLorep IpsumLorep IpsumLorep IpsumLorep IpsumLorep IpsumLorep IpsumLorep Ipsum\\n', 'Lorep Ipsum Lorep IpsumLorep IpsumLorep IpsumLorep IpsumLorep IpsumLorep IpsumLorep IpsumLorep IpsumLorep Ipsum\\n', 'Lorep Ipsum Lorep IpsumLorep IpsumLorep IpsumLorep IpsumLorep IpsumLorep IpsumLorep IpsumLorep IpsumLorep Ipsum\\n', 'Lorep Ipsum Lorep IpsumLorep IpsumLorep IpsumLorep IpsumLorep IpsumLorep IpsumLorep IpsumLorep IpsumLorep Ipsum\\n', 'Lorep Ipsum Lorep IpsumLorep IpsumLorep IpsumLorep IpsumLorep IpsumLorep IpsumLorep IpsumLorep IpsumLorep Ipsum\\n', 'Lorep Ipsum Lorep IpsumLorep IpsumLorep IpsumLorep IpsumLorep IpsumLorep IpsumLorep IpsumLorep IpsumLorep Ipsum\\n', 'v\\n', 'Lorep Ipsum Lorep IpsumLorep IpsumLorep IpsumLorep IpsumLorep IpsumLorep IpsumLorep IpsumLorep IpsumLorep Ipsum\\n', 'Lorep Ipsum Lorep IpsumLorep IpsumLorep IpsumLorep IpsumLorep IpsumLorep IpsumLorep IpsumLorep IpsumLorep Ipsum\\n', 'Lorep Ipsum Lorep IpsumLorep IpsumLorep IpsumLorep IpsumLorep IpsumLorep IpsumLorep IpsumLorep IpsumLorep Ipsum\\n', 'Lorep Ipsum Lorep IpsumLorep IpsumLorep IpsumLorep IpsumLorep IpsumLorep IpsumLorep IpsumLorep IpsumLorep Ipsum\\n', 'v\\n', 'v\\n', 'Lorep Ipsum Lorep IpsumLorep IpsumLorep IpsumLorep IpsumLorep IpsumLorep IpsumLorep IpsumLorep IpsumLorep Ipsum\\n', 'Lorep Ipsum Lorep IpsumLorep IpsumLorep IpsumLorep IpsumLorep IpsumLorep IpsumLorep IpsumLorep IpsumLorep Ipsum\\n', 'v\\n', 'v\\n', 'v\\n', 'v\\n', '\\n', 'v\\n', '\\n', 'Lorep Ipsum Lorep IpsumLorep IpsumLorep IpsumLorep IpsumLorep IpsumLorep IpsumLorep IpsumLorep IpsumLorep Ipsum\\n', 'Lorep Ipsum Lorep IpsumLorep IpsumLorep IpsumLorep IpsumLorep IpsumLorep IpsumLorep IpsumLorep IpsumLorep IpsumvLorep Ipsum Lorep IpsumLorep IpsumLorep IpsumLorep IpsumLorep IpsumLorep IpsumLorep IpsumLorep IpsumLorep Ipsum\\n', 'Lorep Ipsum Lorep IpsumLorep IpsumLorep IpsumLorep IpsumLorep IpsumLorep IpsumLorep IpsumLorep IpsumLorep Ipsum']\n"
     ]
    }
   ],
   "source": [
    "with open(\"example.txt\", \"r\") as file:\n",
    "    lines = file.readlines()\n",
    "    print(lines)"
   ]
  },
  {
   "cell_type": "code",
   "execution_count": 29,
   "id": "e9d6e798",
   "metadata": {},
   "outputs": [],
   "source": [
    "def get_primes(n: int):\n",
    "    \"\"\"A generator function that yields prime numbers up to n.\"\"\"\n",
    "    for num in range(2, n + 1):\n",
    "        is_prime = True\n",
    "        for i in range(2, int(num**0.5) + 1):\n",
    "            if num % i == 0:\n",
    "                is_prime = False\n",
    "                break\n",
    "        if is_prime:\n",
    "            yield num"
   ]
  },
  {
   "cell_type": "code",
   "execution_count": 33,
   "id": "abe25de2",
   "metadata": {},
   "outputs": [],
   "source": [
    "primes = get_primes(20)"
   ]
  },
  {
   "cell_type": "code",
   "execution_count": 32,
   "id": "fb3d1ba4",
   "metadata": {},
   "outputs": [
    {
     "data": {
      "text/plain": [
       "2"
      ]
     },
     "execution_count": 32,
     "metadata": {},
     "output_type": "execute_result"
    }
   ],
   "source": [
    "primes.__next__()"
   ]
  },
  {
   "cell_type": "code",
   "execution_count": 35,
   "id": "b4840c3b",
   "metadata": {},
   "outputs": [
    {
     "name": "stdout",
     "output_type": "stream",
     "text": [
      "13\n",
      "17\n",
      "19\n"
     ]
    }
   ],
   "source": [
    "for prime in primes:\n",
    "    if prime < 10:\n",
    "        break\n",
    "    print(prime)"
   ]
  },
  {
   "cell_type": "code",
   "execution_count": 37,
   "id": "9a5e3d45",
   "metadata": {},
   "outputs": [
    {
     "name": "stdout",
     "output_type": "stream",
     "text": [
      "The median is: 6\n"
     ]
    }
   ],
   "source": [
    "import statistics\n",
    "\n",
    "data = [1, 3, 3, 6, 7, 8, 9]\n",
    "median_value = statistics.median(data)\n",
    "print(f\"The median is: {median_value}\")"
   ]
  },
  {
   "cell_type": "markdown",
   "id": "044a8b33",
   "metadata": {},
   "source": [
    "Exercise\n",
    "\n",
    "\n",
    "Override the statistics.median function to compute the moving median of a list of numbers. (Hint: Use a generator to yield the median after each new number is added to the list.)"
   ]
  },
  {
   "cell_type": "code",
   "execution_count": null,
   "id": "10814bc3",
   "metadata": {},
   "outputs": [],
   "source": []
  }
 ],
 "metadata": {
  "kernelspec": {
   "display_name": "Python 3",
   "language": "python",
   "name": "python3"
  },
  "language_info": {
   "codemirror_mode": {
    "name": "ipython",
    "version": 3
   },
   "file_extension": ".py",
   "mimetype": "text/x-python",
   "name": "python",
   "nbconvert_exporter": "python",
   "pygments_lexer": "ipython3",
   "version": "3.12.8"
  }
 },
 "nbformat": 4,
 "nbformat_minor": 5
}
